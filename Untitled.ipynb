{
 "cells": [
  {
   "cell_type": "code",
   "execution_count": 13,
   "metadata": {},
   "outputs": [],
   "source": [
    "import random\n",
    "class Vertex:\n",
    "    def __init__(self, name, list):\n",
    "        self.name = name\n",
    "        self.neighbors = list\n",
    "\n",
    "def graphGenerator(n):\n",
    "    vertices = []\n",
    "    for k in range(n):\n",
    "        vertices.append(Vertex(k, []))\n",
    "    for i in range(n):\n",
    "        for j in range(i+1, n):\n",
    "            if i != j:\n",
    "                ret = random.random()\n",
    "                if ret < 0.5:\n",
    "                    vertices[i].neighbors.append(j)\n",
    "                    vertices[j].neighbors.append(i)\n",
    "    return vertices\n",
    "\n",
    "def independentSet(vertices):\n",
    "    independentSet = []\n",
    "    while(len(vertices) > 0):\n",
    "        vertices.sort(key=lambda x: len(x.neighbors), reverse=False)\n",
    "        independentSet.append(vertices[0].name)\n",
    "        toDelete_list = vertices[0].neighbors\n",
    "        toDelete_list.append(vertices[0].name)\n",
    "        for name in toDelete_list:\n",
    "            vertices = [vertex for vertex in vertices if vertex.name != name]\n",
    "        for vertex in vertices:\n",
    "            for node in toDelete_list:\n",
    "                vertex.neighbors = [neighbor for neighbor in vertex.neighbors if neighbor != node]\n",
    "    return independentSet"
   ]
  },
  {
   "cell_type": "code",
   "execution_count": null,
   "metadata": {},
   "outputs": [],
   "source": [
    "import matplotlib.pyplot as plt\n",
    "import math\n",
    "\n",
    "graphSize_list = []\n",
    "setSize_list = []\n",
    "for i in range(2, 20):\n",
    "    size = int(math.pow(2, i))\n",
    "    graphSize_list.append(i)\n",
    "    vertices = graphGenerator(size)\n",
    "    setSize_list.append(len(independentSet(vertices)))\n",
    "plt.plot(graphSize_list, setSize_list)\n",
    "plt.show()\n",
    "\n",
    "\n"
   ]
  },
  {
   "cell_type": "code",
   "execution_count": null,
   "metadata": {},
   "outputs": [],
   "source": []
  },
  {
   "cell_type": "code",
   "execution_count": null,
   "metadata": {},
   "outputs": [],
   "source": []
  }
 ],
 "metadata": {
  "kernelspec": {
   "display_name": "Python 3",
   "language": "python",
   "name": "python3"
  },
  "language_info": {
   "codemirror_mode": {
    "name": "ipython",
    "version": 3
   },
   "file_extension": ".py",
   "mimetype": "text/x-python",
   "name": "python",
   "nbconvert_exporter": "python",
   "pygments_lexer": "ipython3",
   "version": "3.6.2"
  }
 },
 "nbformat": 4,
 "nbformat_minor": 2
}
