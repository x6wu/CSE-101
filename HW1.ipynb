{
 "cells": [
  {
   "cell_type": "code",
   "execution_count": 46,
   "metadata": {},
   "outputs": [],
   "source": [
    "import random\n",
    "def matrixGenerator(n):\n",
    "    Matrix = [[0 for x in range(n)] for y in range(n)]\n",
    "    for i in range(0, n):\n",
    "        for j in range(i+1, n):\n",
    "            ret = random.randint(0, 1)\n",
    "            if(ret == 0):\n",
    "                Matrix[i][j] = 0\n",
    "                Matrix[j][i] = 0\n",
    "            else:\n",
    "                Matrix[i][j] = 1\n",
    "                Matrix[j][i] = 1\n",
    "                \n",
    "    return Matrix\n",
    "\n",
    "def CheckTriangle(Matrix):\n",
    "    for i in range(len(Matrix)):\n",
    "        for j in range(i+1, len(Matrix)):\n",
    "            if(Matrix[i][j] == 1):\n",
    "                for k in range(j+1, len(Matrix)):\n",
    "                    if(Matrix[j][k] == 1 and Matrix[i][k] == 1):\n",
    "                        return True\n",
    "    return False\n",
    "    "
   ]
  },
  {
   "cell_type": "code",
   "execution_count": 62,
   "metadata": {},
   "outputs": [
    {
     "name": "stdout",
     "output_type": "stream",
     "text": [
      "0.010540962219238281\n",
      "0.0003459453582763672\n",
      "0.001363992691040039\n",
      "0.004662513732910156\n",
      "0.018597841262817383\n",
      "0.07399129867553711\n",
      "0.3022034168243408\n",
      "1.2324800491333008\n",
      "4.860253572463989\n"
     ]
    }
   ],
   "source": [
    "import time\n",
    "import math\n",
    "for i in range(3, 12):\n",
    "    size = int(math.pow(2, i))\n",
    "    start_time = time.time()\n",
    "    matrix = matrixGenerator(size)\n",
    "    CheckTriangle(matrix)\n",
    "    CPU_time = time.time()-start_time\n",
    "    print(CPU_time)\n",
    "    \n"
   ]
  },
  {
   "cell_type": "code",
   "execution_count": null,
   "metadata": {},
   "outputs": [],
   "source": []
  },
  {
   "cell_type": "code",
   "execution_count": null,
   "metadata": {},
   "outputs": [],
   "source": []
  },
  {
   "cell_type": "code",
   "execution_count": null,
   "metadata": {},
   "outputs": [],
   "source": []
  }
 ],
 "metadata": {
  "kernelspec": {
   "display_name": "Python 3",
   "language": "python",
   "name": "python3"
  },
  "language_info": {
   "codemirror_mode": {
    "name": "ipython",
    "version": 3
   },
   "file_extension": ".py",
   "mimetype": "text/x-python",
   "name": "python",
   "nbconvert_exporter": "python",
   "pygments_lexer": "ipython3",
   "version": "3.6.2"
  }
 },
 "nbformat": 4,
 "nbformat_minor": 2
}
