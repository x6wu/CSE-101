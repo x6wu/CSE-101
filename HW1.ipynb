{
 "cells": [
  {
   "cell_type": "code",
   "execution_count": 46,
   "metadata": {},
   "outputs": [],
   "source": [
    "import random\n",
    "def matrixGenerator(n):\n",
    "    Matrix = [[0 for x in range(n)] for y in range(n)]\n",
    "    for i in range(0, n):\n",
    "        for j in range(i+1, n):\n",
    "            ret = random.randint(0, 1)\n",
    "            if(ret == 0):\n",
    "                Matrix[i][j] = 0\n",
    "                Matrix[j][i] = 0\n",
    "            else:\n",
    "                Matrix[i][j] = 1\n",
    "                Matrix[j][i] = 1\n",
    "                \n",
    "    return Matrix\n",
    "\n",
    "def CheckTriangle(Matrix):\n",
    "    for i in range(len(Matrix)):\n",
    "        for j in range(i+1, len(Matrix)):\n",
    "            if(Matrix[i][j] == 1):\n",
    "                for k in range(j+1, len(Matrix)):\n",
    "                    if(Matrix[j][k] == 1 and Matrix[i][k] == 1):\n",
    "                        return True\n",
    "    return False\n",
    "    "
   ]
  },
  {
   "cell_type": "code",
   "execution_count": 75,
   "metadata": {},
   "outputs": [
    {
     "name": "stdout",
     "output_type": "stream",
     "text": [
      "0.01059269905090332\n",
      "0.00031685829162597656\n",
      "0.0011582374572753906\n",
      "0.004599571228027344\n",
      "0.018678903579711914\n",
      "0.07372379302978516\n",
      "0.3017740249633789\n",
      "1.2079334259033203\n",
      "4.853055000305176\n"
     ]
    },
    {
     "data": {
      "image/png": "[encoded data removed]",
      "text/plain": [
       "<matplotlib.figure.Figure at 0x7f7dffdcc438>"
      ]
     },
     "metadata": {},
     "output_type": "display_data"
    }
   ],
   "source": [
    "import time\n",
    "import math\n",
    "import matplotlib.pyplot as plt\n",
    "\n",
    "size_list = []\n",
    "time_list = []\n",
    "for i in range(3, 12):\n",
    "    size = int(math.pow(2, i))\n",
    "    start_time = time.time()\n",
    "    matrix = matrixGenerator(size)\n",
    "    CheckTriangle(matrix)\n",
    "    CPU_time = time.time()-start_time\n",
    "    size_list.append(size)\n",
    "    time_list.append(CPU_time)\n",
    "    print(CPU_time)\n",
    "    \n",
    "plt.plot(size_list, time_list)\n",
    "plt.ylabel(\"CPU time\")\n",
    "plt.xlabel(\"size\")\n",
    "plt.title(\"random graph\")\n",
    "plt.show()\n"
   ]
  },
  {
   "cell_type": "code",
   "execution_count": 72,
   "metadata": {},
   "outputs": [],
   "source": [
    "import random\n",
    "def BipartiteGenerator(n):\n",
    "    Matrix = [[0 for x in range(n)] for y in range(n)]\n",
    "    subset_size = random.randint(1, n-1)\n",
    "    for i in range(0, subset_size):\n",
    "        for j in range(i+1, subset_size):\n",
    "            ret = random.randint(0, 1)\n",
    "            if(ret == 0):\n",
    "                Matrix[i][j] = 0\n",
    "                Matrix[j][i] = 0\n",
    "            else:\n",
    "                Matrix[i][j] = 1\n",
    "                Matrix[j][i] = 1\n",
    "    \n",
    "    for i in range(subset_size+1, n):\n",
    "        for j in range(i+1, n):\n",
    "            ret = random.randint(0, 1)\n",
    "            if(ret == 0):\n",
    "                Matrix[i][j] = 0\n",
    "                Matrix[j][i] = 0\n",
    "            else:\n",
    "                Matrix[i][j] = 1\n",
    "                Matrix[j][i] = 1\n",
    "    \n",
    "    return Matrix\n"
   ]
  },
  {
   "cell_type": "code",
   "execution_count": 76,
   "metadata": {},
   "outputs": [
    {
     "name": "stdout",
     "output_type": "stream",
     "text": [
      "0.00912928581237793\n",
      "0.00016069412231445312\n",
      "0.0006940364837646484\n",
      "0.002595186233520508\n",
      "0.015685558319091797\n",
      "0.04415583610534668\n",
      "0.2098097801208496\n",
      "0.9292917251586914\n",
      "2.9049394130706787\n"
     ]
    },
    {
     "data": {
      "image/png": "[encoded data removed]",
      "text/plain": [
       "<matplotlib.figure.Figure at 0x7f7dffde69e8>"
      ]
     },
     "metadata": {},
     "output_type": "display_data"
    }
   ],
   "source": [
    "import time\n",
    "import math\n",
    "import matplotlib.pyplot as plt\n",
    "\n",
    "size_list = []\n",
    "time_list = []\n",
    "for i in range(3, 12):\n",
    "    size = int(math.pow(2, i))\n",
    "    start_time = time.time()\n",
    "    matrix = BipartiteGenerator(size)\n",
    "    CheckTriangle(matrix)\n",
    "    CPU_time = time.time()-start_time\n",
    "    size_list.append(size)\n",
    "    time_list.append(CPU_time)\n",
    "    print(CPU_time)\n",
    "    \n",
    "plt.plot(size_list, time_list)\n",
    "plt.ylabel(\"CPU time\")\n",
    "plt.xlabel(\"size\")\n",
    "plt.title(\"random bipartite graph\")\n",
    "plt.show()\n"
   ]
  },
  {
   "cell_type": "code",
   "execution_count": null,
   "metadata": {},
   "outputs": [],
   "source": []
  }
 ],
 "metadata": {
  "kernelspec": {
   "display_name": "Python 3",
   "language": "python",
   "name": "python3"
  },
  "language_info": {
   "codemirror_mode": {
    "name": "ipython",
    "version": 3
   },
   "file_extension": ".py",
   "mimetype": "text/x-python",
   "name": "python",
   "nbconvert_exporter": "python",
   "pygments_lexer": "ipython3",
   "version": "3.6.2"
  }
 },
 "nbformat": 4,
 "nbformat_minor": 2
}
